{
  "nbformat": 4,
  "nbformat_minor": 0,
  "metadata": {
    "colab": {
      "provenance": [],
      "authorship_tag": "ABX9TyNjUSn3M9uEwkZIh+Cuzcup",
      "include_colab_link": true
    },
    "kernelspec": {
      "name": "python3",
      "display_name": "Python 3"
    },
    "language_info": {
      "name": "python"
    }
  },
  "cells": [
    {
      "cell_type": "markdown",
      "metadata": {
        "id": "view-in-github",
        "colab_type": "text"
      },
      "source": [
        "<a href=\"https://colab.research.google.com/github/AliBarkinKara07/PatikaVeriAnaliziOdev/blob/main/Untitled20.ipynb\" target=\"_parent\"><img src=\"https://colab.research.google.com/assets/colab-badge.svg\" alt=\"Open In Colab\"/></a>"
      ]
    },
    {
      "cell_type": "code",
      "execution_count": 4,
      "metadata": {
        "colab": {
          "base_uri": "https://localhost:8080/"
        },
        "id": "H7h4cR-wo1mm",
        "outputId": "fb560364-65c2-4f8f-91fe-5c5e06f230df"
      },
      "outputs": [
        {
          "output_type": "stream",
          "name": "stdout",
          "text": [
            "[1, 2, 3, 4, 5, 6, 7]\n"
          ]
        }
      ],
      "source": [
        "#Bir listeyi düzleştiren (flatten) fonksiyon:\n",
        "def flatten_list(input_list):\n",
        "    flattened = []\n",
        "    for item in input_list:\n",
        "        if isinstance(item, list):\n",
        "            flattened.extend(flatten_list(item))\n",
        "        else:\n",
        "            flattened.append(item)\n",
        "    return flattened\n",
        "\n",
        "nested_list = [[1, 2, [3, 4]], [5, [6]], 7]\n",
        "flat_list = flatten_list(nested_list)\n",
        "print(flat_list)"
      ]
    },
    {
      "cell_type": "code",
      "source": [
        "#Verilen listenin içindeki elemanları tersine döndüren fonksiyon:\n",
        "\n",
        "def reverse_nested_list(input_list):\n",
        "    reversed_list = []\n",
        "\n",
        "    for item in reversed(input_list):\n",
        "        if isinstance(item, list):\n",
        "            reversed_list.append(reverse_nested_list(item))\n",
        "        else:\n",
        "            reversed_list.append(item)\n",
        "\n",
        "    return reversed_list\n",
        "\n",
        "# Örnek kullanım:\n",
        "input_list = [[1, 2], [3, 4], [5, 6, 7]]\n",
        "output_list = reverse_nested_list(input_list)\n",
        "print(output_list)\n"
      ],
      "metadata": {
        "colab": {
          "base_uri": "https://localhost:8080/"
        },
        "id": "pywuYvIDpGF_",
        "outputId": "24d599de-fc08-462f-d118-e826ac3c29d9"
      },
      "execution_count": 5,
      "outputs": [
        {
          "output_type": "stream",
          "name": "stdout",
          "text": [
            "[[7, 6, 5], [4, 3], [2, 1]]\n"
          ]
        }
      ]
    }
  ]
}